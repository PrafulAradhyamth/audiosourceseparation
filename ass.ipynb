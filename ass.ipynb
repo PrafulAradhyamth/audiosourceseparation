{
 "cells": [
  {
   "cell_type": "code",
   "execution_count": 6,
   "metadata": {},
   "outputs": [],
   "source": [
    "import numpy as np\n",
    "from scipy import signal\n",
    "import matplotlib.pyplot as plt\n",
    "import audiofile\n"
   ]
  },
  {
   "cell_type": "code",
   "execution_count": 9,
   "metadata": {},
   "outputs": [
    {
     "ename": "ValueError",
     "evalue": "The truth value of an array with more than one element is ambiguous. Use a.any() or a.all()",
     "output_type": "error",
     "traceback": [
      "\u001b[0;31m---------------------------------------------------------------------------\u001b[0m",
      "\u001b[0;31mValueError\u001b[0m                                Traceback (most recent call last)",
      "Cell \u001b[0;32mIn[9], line 5\u001b[0m\n\u001b[1;32m      1\u001b[0m x, fs \u001b[39m=\u001b[39m audiofile\u001b[39m.\u001b[39mread(\u001b[39m'\u001b[39m\u001b[39m/speech/db/mul/audio/music/tency2/part1/maneskin_i-wanna-be-your-slave_65162/multi/bass.wav\u001b[39m\u001b[39m'\u001b[39m)\n\u001b[1;32m      4\u001b[0m f, t, Zxx \u001b[39m=\u001b[39m signal\u001b[39m.\u001b[39mstft(x, fs, nperseg\u001b[39m=\u001b[39m\u001b[39m1000\u001b[39m)\n\u001b[0;32m----> 5\u001b[0m plt\u001b[39m.\u001b[39mpcolormesh(t, f, (Zxx), vmin\u001b[39m=\u001b[39m\u001b[39mmin\u001b[39;49m(x), vmax\u001b[39m=\u001b[39m\u001b[39mmax\u001b[39m(x), shading\u001b[39m=\u001b[39m\u001b[39m'\u001b[39m\u001b[39mgouraud\u001b[39m\u001b[39m'\u001b[39m)\n\u001b[1;32m      6\u001b[0m plt\u001b[39m.\u001b[39mtitle(\u001b[39m'\u001b[39m\u001b[39mSTFT Magnitude\u001b[39m\u001b[39m'\u001b[39m)\n\u001b[1;32m      7\u001b[0m plt\u001b[39m.\u001b[39mylabel(\u001b[39m'\u001b[39m\u001b[39mFrequency [Hz]\u001b[39m\u001b[39m'\u001b[39m)\n",
      "\u001b[0;31mValueError\u001b[0m: The truth value of an array with more than one element is ambiguous. Use a.any() or a.all()"
     ]
    }
   ],
   "source": [
    "x, fs = audiofile.read('/speech/db/mul/audio/music/tency2/part1/maneskin_i-wanna-be-your-slave_65162/multi/bass.wav')\n",
    "\n",
    "\n",
    "f, t, Zxx = signal.stft(x, fs, nperseg=1000)\n",
    "plt.pcolormesh(t, f, np.abs(Zxx), vmin=min(x), vmax=max(x), shading='gouraud')\n",
    "plt.title('STFT Magnitude')\n",
    "plt.ylabel('Frequency [Hz]')\n",
    "plt.xlabel('Time [sec]')\n",
    "plt.show()"
   ]
  },
  {
   "cell_type": "code",
   "execution_count": 3,
   "metadata": {},
   "outputs": [],
   "source": [
    "from scipy import signal"
   ]
  },
  {
   "cell_type": "code",
   "execution_count": null,
   "metadata": {},
   "outputs": [],
   "source": []
  }
 ],
 "metadata": {
  "kernelspec": {
   "display_name": "Python 3",
   "language": "python",
   "name": "python3"
  },
  "language_info": {
   "codemirror_mode": {
    "name": "ipython",
    "version": 3
   },
   "file_extension": ".py",
   "mimetype": "text/x-python",
   "name": "python",
   "nbconvert_exporter": "python",
   "pygments_lexer": "ipython3",
   "version": "3.8.10"
  },
  "orig_nbformat": 4
 },
 "nbformat": 4,
 "nbformat_minor": 2
}
